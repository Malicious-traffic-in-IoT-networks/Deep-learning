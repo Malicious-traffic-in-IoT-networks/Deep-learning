{
  "nbformat": 4,
  "nbformat_minor": 0,
  "metadata": {
    "colab": {
      "provenance": [],
      "authorship_tag": "ABX9TyNmg5bO6XRhDbkoy5ZykCeL",
      "include_colab_link": true
    },
    "kernelspec": {
      "name": "python3",
      "display_name": "Python 3"
    },
    "language_info": {
      "name": "python"
    }
  },
  "cells": [
    {
      "cell_type": "markdown",
      "metadata": {
        "id": "view-in-github",
        "colab_type": "text"
      },
      "source": [
        "<a href=\"https://colab.research.google.com/github/Malicious-traffic-in-IoT-networks/Deep-learning/blob/main/DDoS_Botnet_Attack_on_IOT_Devices_LSTM.ipynb\" target=\"_parent\"><img src=\"https://colab.research.google.com/assets/colab-badge.svg\" alt=\"Open In Colab\"/></a>"
      ]
    },
    {
      "cell_type": "markdown",
      "source": [
        "## **LSTM**\n",
        "\n",
        "Long Short Term Memory\n",
        "장기 의존성 문제를 해결할 수 있는 RNNs 알고리즘의 한 종류\n",
        "\n"
      ],
      "metadata": {
        "id": "UJjosdBacyqZ"
      }
    },
    {
      "cell_type": "markdown",
      "source": [
        "## **01 데이터 업로드**"
      ],
      "metadata": {
        "id": "DndF0vwOdudv"
      }
    },
    {
      "cell_type": "code",
      "execution_count": 414,
      "metadata": {
        "colab": {
          "base_uri": "https://localhost:8080/"
        },
        "id": "LfC4r4Qqchmx",
        "outputId": "4126308c-2162-4f4f-9444-73f1b07ed087"
      },
      "outputs": [
        {
          "output_type": "stream",
          "name": "stdout",
          "text": [
            "Mounted at /gdrive\n"
          ]
        }
      ],
      "source": [
        "# 구글 드라이브 연결\n",
        "from google.colab import drive\n",
        "import numpy as np\n",
        "drive.mount('/gdrive', force_remount=True)"
      ]
    },
    {
      "cell_type": "code",
      "source": [
        "import pandas as pd\n",
        "\n",
        "Train_Dataset = pd.read_csv('/gdrive/MyDrive/Taggle/IoT_Botnet_Final_Training.csv')\n",
        "Test_Dataset = pd.read_csv('/gdrive/MyDrive/Taggle/IoT_Botnet_Dataset.csv')"
      ],
      "metadata": {
        "id": "ZnIssVxSdw3u"
      },
      "execution_count": 415,
      "outputs": []
    },
    {
      "cell_type": "code",
      "source": [
        "# Train Data Size: [2934817 rows x 19 columns]\n",
        "Train_Dataset.info()"
      ],
      "metadata": {
        "colab": {
          "base_uri": "https://localhost:8080/"
        },
        "id": "Q_PhzUhVhBGO",
        "outputId": "12a872f0-ab6a-4d71-bcc2-6873353c4200"
      },
      "execution_count": 416,
      "outputs": [
        {
          "output_type": "stream",
          "name": "stdout",
          "text": [
            "<class 'pandas.core.frame.DataFrame'>\n",
            "RangeIndex: 2934817 entries, 0 to 2934816\n",
            "Data columns (total 19 columns):\n",
            " #   Column             Dtype  \n",
            "---  ------             -----  \n",
            " 0   pkSeqID            int64  \n",
            " 1   proto              object \n",
            " 2   saddr              object \n",
            " 3   sport              object \n",
            " 4   daddr              object \n",
            " 5   dport              object \n",
            " 6   seq                int64  \n",
            " 7   stddev             float64\n",
            " 8   N_IN_Conn_P_SrcIP  int64  \n",
            " 9   min                float64\n",
            " 10  state_number       int64  \n",
            " 11  mean               float64\n",
            " 12  N_IN_Conn_P_DstIP  int64  \n",
            " 13  drate              float64\n",
            " 14  srate              float64\n",
            " 15  max                float64\n",
            " 16  attack             int64  \n",
            " 17  category           object \n",
            " 18  subcategory        object \n",
            "dtypes: float64(6), int64(6), object(7)\n",
            "memory usage: 425.4+ MB\n"
          ]
        }
      ]
    },
    {
      "cell_type": "code",
      "source": [
        "# Test Data Size: [733704 rows x 19 columns]\n",
        "Test_Dataset.info()"
      ],
      "metadata": {
        "colab": {
          "base_uri": "https://localhost:8080/"
        },
        "id": "OAeHARrukPjC",
        "outputId": "23d1ae23-c9a9-4f21-e3b6-224bf956e071"
      },
      "execution_count": 417,
      "outputs": [
        {
          "output_type": "stream",
          "name": "stdout",
          "text": [
            "<class 'pandas.core.frame.DataFrame'>\n",
            "RangeIndex: 733705 entries, 0 to 733704\n",
            "Data columns (total 19 columns):\n",
            " #   Column             Non-Null Count   Dtype  \n",
            "---  ------             --------------   -----  \n",
            " 0   pkSeqID            733705 non-null  int64  \n",
            " 1   proto              733705 non-null  object \n",
            " 2   saddr              733705 non-null  object \n",
            " 3   sport              733705 non-null  object \n",
            " 4   daddr              733705 non-null  object \n",
            " 5   dport              733705 non-null  object \n",
            " 6   seq                733705 non-null  int64  \n",
            " 7   stddev             733705 non-null  float64\n",
            " 8   N_IN_Conn_P_SrcIP  733705 non-null  int64  \n",
            " 9   min                733705 non-null  float64\n",
            " 10  state_number       733705 non-null  int64  \n",
            " 11  mean               733705 non-null  float64\n",
            " 12  N_IN_Conn_P_DstIP  733705 non-null  int64  \n",
            " 13  drate              733705 non-null  float64\n",
            " 14  srate              733705 non-null  float64\n",
            " 15  max                733705 non-null  float64\n",
            " 16  attack             733705 non-null  int64  \n",
            " 17  category           733705 non-null  object \n",
            " 18  subcategory        733705 non-null  object \n",
            "dtypes: float64(6), int64(6), object(7)\n",
            "memory usage: 106.4+ MB\n"
          ]
        }
      ]
    },
    {
      "cell_type": "markdown",
      "source": [
        "-pkSeqID: Row Identifier  \n",
        "-seq: Argus sequence number  \n",
        "-subcategory: Traffic subcategory  \n",
        "-category (Target Column): Traffic category  \n",
        "\n"
      ],
      "metadata": {
        "id": "Ku81mEunhzKm"
      }
    },
    {
      "cell_type": "markdown",
      "source": [
        "## **02 학습에 용이하도록 데이터셋 정리**"
      ],
      "metadata": {
        "id": "DSomqrrXpqs_"
      }
    },
    {
      "cell_type": "code",
      "source": [
        "# 'category' 칼럼 이외의 것으로 패킷을 특정하지 않도록\n",
        "# 'pkSeqID','seq','subcategory' 칼럼 제거\n",
        "\n",
        "Train_Dataset.drop([\"pkSeqID\",\"seq\",\"subcategory\"], axis=1, inplace=True)\n",
        "Test_Dataset.drop([\"pkSeqID\",\"seq\",\"subcategory\"], axis=1, inplace=True)\n",
        "Train_Dataset.dtypes[Train_Dataset.dtypes=='object']"
      ],
      "metadata": {
        "colab": {
          "base_uri": "https://localhost:8080/"
        },
        "id": "rslyBB_od2zh",
        "outputId": "39c4d5ed-ad79-4d84-b9e3-ea546c675861"
      },
      "execution_count": 418,
      "outputs": [
        {
          "output_type": "execute_result",
          "data": {
            "text/plain": [
              "proto       object\n",
              "saddr       object\n",
              "sport       object\n",
              "daddr       object\n",
              "dport       object\n",
              "category    object\n",
              "dtype: object"
            ]
          },
          "metadata": {},
          "execution_count": 418
        }
      ]
    },
    {
      "cell_type": "code",
      "source": [
        "drop_theft = Train_Dataset[Train_Dataset['category']=='Theft'].index\n",
        "Train_Dataset.drop(drop_theft, inplace=True)\n",
        "\n",
        "drop_theft = Test_Dataset[Test_Dataset['category']=='Theft'].index\n",
        "Test_Dataset.drop(drop_theft, inplace=True)"
      ],
      "metadata": {
        "id": "i59-wVIDiHTt"
      },
      "execution_count": 419,
      "outputs": []
    },
    {
      "cell_type": "code",
      "source": [
        "# Train_Dataset 'sort' 칼럼에서 '0x' 문자열을 찾아 integer로 변환\n",
        "search_string='0x'\n",
        "result = set([i for i in Train_Dataset['sport'] if i.startswith(search_string)])\n",
        "print(result)\n"
      ],
      "metadata": {
        "colab": {
          "base_uri": "https://localhost:8080/"
        },
        "id": "pDrxLNt4iplF",
        "outputId": "5c9801bd-9fc9-453d-a186-5de4df0a5311"
      },
      "execution_count": 420,
      "outputs": [
        {
          "output_type": "stream",
          "name": "stdout",
          "text": [
            "{'0x0011', '0x0008', '0x0303', '0x000d'}\n"
          ]
        }
      ]
    },
    {
      "cell_type": "code",
      "source": [
        "Train_Dataset['sport'] = Train_Dataset['sport'].replace(['0x0303'],'771') \n",
        "Train_Dataset['sport'] = Train_Dataset['sport'].replace(['0x0011'],'17')\n",
        "Train_Dataset['sport'] = Train_Dataset['sport'].replace(['0x000d'],'13')\n",
        "Train_Dataset['sport'] = Train_Dataset['sport'].replace(['0x0008'],'8')\n",
        "Train_Dataset[\"sport\"] = Train_Dataset[\"sport\"].astype(str).astype(int)"
      ],
      "metadata": {
        "id": "M4PsRl5WFq5H"
      },
      "execution_count": 421,
      "outputs": []
    },
    {
      "cell_type": "code",
      "source": [
        "# Train_Dataset 'dport' 칼럼에서 '0x' 문자열을 찾아 integer로 변환\n",
        "search_string='0x'\n",
        "result = set([i for i in Train_Dataset['dport'] if i.startswith(search_string)])\n",
        "Train_Dataset['dport']=Train_Dataset.dport.apply(lambda x: int(x,16) if len(x)>1 and x[1]==\"x\" else int(x))\n"
      ],
      "metadata": {
        "id": "8IabAPSilcuz"
      },
      "execution_count": 422,
      "outputs": []
    },
    {
      "cell_type": "code",
      "source": [
        "# 'dport' count 출력\n",
        "Train_Dataset['dport'].value_counts()"
      ],
      "metadata": {
        "colab": {
          "base_uri": "https://localhost:8080/"
        },
        "id": "zk_KeR3Wmtdh",
        "outputId": "da57a724-b728-496f-d65b-66ad3552f63f"
      },
      "execution_count": 423,
      "outputs": [
        {
          "output_type": "execute_result",
          "data": {
            "text/plain": [
              " 80       2858794\n",
              " 1           5379\n",
              " 3306        3757\n",
              " 53           275\n",
              "-1            163\n",
              "           ...   \n",
              " 40064          1\n",
              " 40027          1\n",
              " 40344          1\n",
              " 3754           1\n",
              " 61804          1\n",
              "Name: dport, Length: 6778, dtype: int64"
            ]
          },
          "metadata": {},
          "execution_count": 423
        }
      ]
    },
    {
      "cell_type": "code",
      "source": [
        "# Test_Dataset 'dport', 'sort' 칼럼에서 '0x' 문자열을 찾아 integer로 변환\n",
        "\n",
        "Test_Dataset['sport'] = Test_Dataset['sport'].replace(['0x0303'],'771') \n",
        "Test_Dataset['sport'] = Test_Dataset['sport'].replace(['0x0011'],'17')\n",
        "Test_Dataset['sport'] = Test_Dataset['sport'].replace(['0x000d'],'13')\n",
        "Test_Dataset['sport'] = Test_Dataset['sport'].replace(['0x0008'],'8')\n",
        "Test_Dataset[\"sport\"] = Test_Dataset[\"sport\"].astype(str).astype(int)"
      ],
      "metadata": {
        "id": "B7QP63qpl8AB"
      },
      "execution_count": 424,
      "outputs": []
    },
    {
      "cell_type": "code",
      "source": [
        "Test_Dataset['dport'] = Test_Dataset.dport.apply(lambda x: int(x,16) if len(x)>1 and x[1]==\"x\" else int(x))"
      ],
      "metadata": {
        "id": "Ncd8viwenU1V"
      },
      "execution_count": 425,
      "outputs": []
    },
    {
      "cell_type": "markdown",
      "source": [
        "## **03 데이터 정규화**"
      ],
      "metadata": {
        "id": "Dvuctemnp6uR"
      }
    },
    {
      "cell_type": "markdown",
      "source": [
        "1) 레이블 인코딩 (Label Encoding): 카테고리 피처를 코드형 숫자 값으로 변환"
      ],
      "metadata": {
        "id": "724REgsHrbaL"
      }
    },
    {
      "cell_type": "code",
      "source": [
        "# Train_Dataset\n",
        "\n",
        "from sklearn.preprocessing import LabelEncoder\n",
        "le = LabelEncoder()\n",
        "Train_Dataset[\"saddr_enc\"] = le.fit_transform(Train_Dataset.saddr)\n",
        "Train_Dataset[\"daddr_enc\"] = le.fit_transform(Train_Dataset.daddr)\n",
        "Train_Dataset[\"proto_enc\"] = le.fit_transform(Train_Dataset.proto)\n",
        "Train_Dataset[\"category_enc\"] = le.fit_transform(Train_Dataset.category)\n",
        "Train_Dataset.drop(['saddr','daddr','proto','category'], axis=1, inplace=True)"
      ],
      "metadata": {
        "id": "ZkAlPDKWoNhX"
      },
      "execution_count": 426,
      "outputs": []
    },
    {
      "cell_type": "code",
      "source": [
        "# Test_Dataset 정규화\n",
        "Test_Dataset[\"saddr_enc\"] = le.fit_transform(Test_Dataset.saddr)\n",
        "Test_Dataset[\"saddr_enc\"] = le.fit_transform(Test_Dataset.saddr)\n",
        "Test_Dataset[\"daddr_enc\"] = le.fit_transform(Test_Dataset.daddr)\n",
        "Test_Dataset[\"proto_enc\"] = le.fit_transform(Test_Dataset.proto)\n",
        "Test_Dataset[\"category_enc\"] = le.fit_transform(Test_Dataset.category)\n",
        "Test_Dataset.drop(['saddr','daddr','proto','category'], axis=1, inplace=True)"
      ],
      "metadata": {
        "id": "q-5NoG2DqQ8M"
      },
      "execution_count": 427,
      "outputs": []
    },
    {
      "cell_type": "code",
      "source": [
        "y_train = Train_Dataset[\"category_enc\"]\n",
        "y_test = Test_Dataset[\"category_enc\"]"
      ],
      "metadata": {
        "id": "5ousOzY-rRTe"
      },
      "execution_count": 428,
      "outputs": []
    },
    {
      "cell_type": "markdown",
      "source": [
        "3) StandardScaler"
      ],
      "metadata": {
        "id": "GNwrEZnmsS0u"
      }
    },
    {
      "cell_type": "code",
      "source": [
        "from sklearn.preprocessing import StandardScaler\n",
        "scaler=StandardScaler()\n",
        "features = Train_Dataset.iloc[:,:-1]\n",
        "cols=features.columns\n",
        "scaled_features= scaler.fit_transform(features)\n",
        "Train_Dataset= pd.DataFrame(scaled_features,columns=cols)\n",
        "\n",
        "features = Test_Dataset.iloc[:,:-1]\n",
        "cols=features.columns\n",
        "scaled_features= scaler.fit_transform(features)\n",
        "Test_Dataset= pd.DataFrame(scaled_features,columns=cols)\n"
      ],
      "metadata": {
        "id": "QS_coZJcz72T"
      },
      "execution_count": 429,
      "outputs": []
    },
    {
      "cell_type": "code",
      "source": [
        "pd.Series(y_test).value_counts()"
      ],
      "metadata": {
        "colab": {
          "base_uri": "https://localhost:8080/"
        },
        "id": "994aru1X0ECD",
        "outputId": "3aab8e3b-6aa5-4f35-c41d-8995724cc203"
      },
      "execution_count": 430,
      "outputs": [
        {
          "output_type": "execute_result",
          "data": {
            "text/plain": [
              "0    385309\n",
              "1    330112\n",
              "3     18163\n",
              "2       107\n",
              "Name: category_enc, dtype: int64"
            ]
          },
          "metadata": {},
          "execution_count": 430
        }
      ]
    },
    {
      "cell_type": "code",
      "source": [
        "pd.Series(y_train).value_counts()"
      ],
      "metadata": {
        "colab": {
          "base_uri": "https://localhost:8080/"
        },
        "id": "MjiPnOfQ0UWY",
        "outputId": "bcafe6b8-35e5-47fd-cb61-cf97440971c5"
      },
      "execution_count": 431,
      "outputs": [
        {
          "output_type": "execute_result",
          "data": {
            "text/plain": [
              "0    1541315\n",
              "1    1320148\n",
              "3      72919\n",
              "2        370\n",
              "Name: category_enc, dtype: int64"
            ]
          },
          "metadata": {},
          "execution_count": 431
        }
      ]
    },
    {
      "cell_type": "markdown",
      "source": [
        "## **04 데이터 세트 조정**"
      ],
      "metadata": {
        "id": "tSUMF25guwMN"
      }
    },
    {
      "cell_type": "markdown",
      "source": [
        "1) RandomOverSampler, RandomUnderSampler"
      ],
      "metadata": {
        "id": "dZiVeKXIx1Pr"
      }
    },
    {
      "cell_type": "code",
      "source": [
        "from sklearn.model_selection import StratifiedKFold,cross_val_score\n",
        "from imblearn.over_sampling import RandomOverSampler\n",
        "from sklearn import model_selection\n",
        "from sklearn.svm import SVC\n",
        "import imblearn\n",
        "\n",
        "# RandomOverSampler : 중복된 데이터를 기존의 데이터에 추가하여 데이터의 절대적인 양을 늘리는 것\n",
        "samp_strat= { 0 : 1541315, 1 : 1320148, 2 : 72919, 3 : 72919}\n",
        "random_over= RandomOverSampler(sampling_strategy=samp_strat,random_state=1)\n",
        "Xres,yres = random_over.fit_resample(Train_Dataset, y_train)\n",
        "\n",
        "# RandomUnderSampler: 많은 비율을 차지하는 다수 집단에서 일부만 샘플링\n",
        "from imblearn.under_sampling import RandomUnderSampler\n",
        "samp_strat= { 0 : 72919, 1 : 72919, 2 : 72919, 3 : 72919}\n",
        "random_under= RandomUnderSampler(sampling_strategy=samp_strat,random_state=1)\n",
        "Xres1,yres1 = random_under.fit_resample(Xres,yres)\n"
      ],
      "metadata": {
        "id": "d0kkVgfAuyp0"
      },
      "execution_count": 432,
      "outputs": []
    },
    {
      "cell_type": "code",
      "source": [
        "pd.Series(yres1).value_counts()"
      ],
      "metadata": {
        "colab": {
          "base_uri": "https://localhost:8080/"
        },
        "id": "bW8AuHIgvCMI",
        "outputId": "6a1e22bf-0c46-489d-c15f-ff7640afd705"
      },
      "execution_count": 433,
      "outputs": [
        {
          "output_type": "execute_result",
          "data": {
            "text/plain": [
              "0    72919\n",
              "1    72919\n",
              "2    72919\n",
              "3    72919\n",
              "Name: category_enc, dtype: int64"
            ]
          },
          "metadata": {},
          "execution_count": 433
        }
      ]
    },
    {
      "cell_type": "code",
      "source": [
        "import imblearn\n",
        "from imblearn.under_sampling import RandomUnderSampler\n",
        "samp_strat= { 0 : 385309, 1 : 330112, 2 : 330112, 3 : 330112}\n",
        "random_over_1= RandomOverSampler(sampling_strategy=samp_strat,random_state=1)\n",
        "test,y_test = random_over_1.fit_resample(Test_Dataset, y_test)"
      ],
      "metadata": {
        "id": "uYgB1iS-vGcw"
      },
      "execution_count": 434,
      "outputs": []
    },
    {
      "cell_type": "code",
      "source": [
        "pd.Series(y_test).value_counts()"
      ],
      "metadata": {
        "colab": {
          "base_uri": "https://localhost:8080/"
        },
        "id": "7r_wiKIDvTPm",
        "outputId": "9cc7bf49-f400-403d-8165-87dcd46faf0f"
      },
      "execution_count": 435,
      "outputs": [
        {
          "output_type": "execute_result",
          "data": {
            "text/plain": [
              "0    385309\n",
              "1    330112\n",
              "3    330112\n",
              "2    330112\n",
              "Name: category_enc, dtype: int64"
            ]
          },
          "metadata": {},
          "execution_count": 435
        }
      ]
    },
    {
      "cell_type": "code",
      "source": [
        "import imblearn\n",
        "from imblearn.under_sampling import RandomUnderSampler\n",
        "samp_strat= { 0 : 14584, 1 : 14584, 2 : 14584, 3 : 14584}\n",
        "random_over_2= RandomUnderSampler(sampling_strategy=samp_strat,random_state=1)\n",
        "test,y_test = random_over_2.fit_resample(test,y_test)"
      ],
      "metadata": {
        "id": "y6C6z89_vX9g"
      },
      "execution_count": 436,
      "outputs": []
    },
    {
      "cell_type": "code",
      "source": [
        "# RandomUnderSampler을 통해 데이터의 절대적인 양이 줄어든 것 확인\n",
        "\n",
        "pd.Series(y_test).value_counts()"
      ],
      "metadata": {
        "colab": {
          "base_uri": "https://localhost:8080/"
        },
        "id": "uF84bUaavZYr",
        "outputId": "0d8a3411-dd75-464d-a4c9-6a733f64de44"
      },
      "execution_count": 437,
      "outputs": [
        {
          "output_type": "execute_result",
          "data": {
            "text/plain": [
              "0    14584\n",
              "1    14584\n",
              "2    14584\n",
              "3    14584\n",
              "Name: category_enc, dtype: int64"
            ]
          },
          "metadata": {},
          "execution_count": 437
        }
      ]
    },
    {
      "cell_type": "markdown",
      "source": [
        "2) 정확도가 0.98이 넘었을 때 호출 할 myCallback 선언"
      ],
      "metadata": {
        "id": "8KsdkNgjx-ap"
      }
    },
    {
      "cell_type": "code",
      "source": [
        "# Tensorflow의 callbacks를 확인하여 정확도가 0.98이 넘었을 때 학습 멈출 myCallback 선언\n",
        "import tensorflow as tf\n",
        "\n",
        "class myCallback(tf.keras.callbacks.Callback):\n",
        "    def on_epoch_end(self, epoch, logs={}):\n",
        "        if(logs.get('accuracy') > 0.98 ):\n",
        "            print(\"\\nReached 98% accuracy so cancelling training!\")\n",
        "            self.model.stop_training = True\n",
        "\n",
        "callback=myCallback()"
      ],
      "metadata": {
        "id": "T6UjMgybvl_5"
      },
      "execution_count": 438,
      "outputs": []
    },
    {
      "cell_type": "markdown",
      "source": [
        "2) learning rage 정의를 위해 옵티마이저 초기화"
      ],
      "metadata": {
        "id": "ug9aitFyyBs4"
      }
    },
    {
      "cell_type": "code",
      "source": [
        "from tensorflow.keras import optimizers\n",
        "opt = tf.keras.optimizers.RMSprop(learning_rate=0.0001, decay=1e-6)"
      ],
      "metadata": {
        "id": "-wpbhMX9xvYh"
      },
      "execution_count": 439,
      "outputs": []
    },
    {
      "cell_type": "code",
      "source": [
        "Xres1.shape"
      ],
      "metadata": {
        "colab": {
          "base_uri": "https://localhost:8080/"
        },
        "id": "QLoaQDYayMUt",
        "outputId": "5ad697f9-edfd-4b1e-e759-fac631c8b3d0"
      },
      "execution_count": 440,
      "outputs": [
        {
          "output_type": "execute_result",
          "data": {
            "text/plain": [
              "(291676, 15)"
            ]
          },
          "metadata": {},
          "execution_count": 440
        }
      ]
    },
    {
      "cell_type": "markdown",
      "source": [
        "## **05 LSTM**"
      ],
      "metadata": {
        "id": "sgLR52uuyWMI"
      }
    },
    {
      "cell_type": "markdown",
      "source": [
        "1) 4개의 밀집 계층의 Simple RNN 모델 \n",
        "- LSTM\n",
        "- Dense (Layer 20, 60, 80, 90)\n",
        "- Dense (Softmax)"
      ],
      "metadata": {
        "id": "1anRUnG711Al"
      }
    },
    {
      "cell_type": "code",
      "source": [
        "from tensorflow.keras.utils import to_categorical\n",
        "from keras.layers import Dense, Dropout, Embedding, LSTM, GlobalMaxPooling1D, SpatialDropout1D\n",
        "from tensorflow import keras\n",
        "from tensorflow.keras import layers\n",
        "from tensorflow.keras.layers import SimpleRNN\n",
        "from keras.models import Sequential\n",
        "\n",
        "n_samples, n_feats = Xres1.shape[0], Xres1.shape[1]\n",
        "Xres1=np.array(Xres1)\n",
        "Xres1 = Xres1.reshape((n_samples, n_feats, 1))\n",
        "yres1=np.array(yres1)\n",
        "yres1 = to_categorical(yres1, 4)\n",
        "model = Sequential()\n",
        "model.add(LSTM(n_feats, input_shape=(n_feats, 1)))\n",
        "model.add(Dense(20))\n",
        "model.add(Dense(60))\n",
        "model.add(Dense(80))\n",
        "model.add(Dense(90))\n",
        "model.add(Dense(4, activation='softmax'))"
      ],
      "metadata": {
        "id": "4rWgp2D8yUPi"
      },
      "execution_count": 441,
      "outputs": []
    },
    {
      "cell_type": "code",
      "source": [
        "# 모델 컴파일\n",
        "model.compile(loss='categorical_crossentropy', optimizer=opt,metrics=['accuracy'])"
      ],
      "metadata": {
        "id": "N9QkZxrs14N1"
      },
      "execution_count": 442,
      "outputs": []
    },
    {
      "cell_type": "code",
      "source": [
        "# test 데이터 세트 준비\n",
        "n_samples, n_feats = test.shape[0], test.shape[1]\n",
        "test=np.array(test)\n",
        "test = test.reshape((n_samples, n_feats, 1))\n",
        "y_test=np.array(y_test)\n",
        "y_test = to_categorical(y_test, 4)"
      ],
      "metadata": {
        "id": "hxWhDK9M2FSA"
      },
      "execution_count": 443,
      "outputs": []
    },
    {
      "cell_type": "code",
      "source": [
        "model.summary()"
      ],
      "metadata": {
        "colab": {
          "base_uri": "https://localhost:8080/"
        },
        "id": "b1kEhy7P2NU4",
        "outputId": "e2ee4720-d909-4881-c2b9-c2272d95d553"
      },
      "execution_count": 444,
      "outputs": [
        {
          "output_type": "stream",
          "name": "stdout",
          "text": [
            "Model: \"sequential_7\"\n",
            "_________________________________________________________________\n",
            " Layer (type)                Output Shape              Param #   \n",
            "=================================================================\n",
            " lstm_7 (LSTM)               (None, 15)                1020      \n",
            "                                                                 \n",
            " dense_35 (Dense)            (None, 20)                320       \n",
            "                                                                 \n",
            " dense_36 (Dense)            (None, 60)                1260      \n",
            "                                                                 \n",
            " dense_37 (Dense)            (None, 80)                4880      \n",
            "                                                                 \n",
            " dense_38 (Dense)            (None, 90)                7290      \n",
            "                                                                 \n",
            " dense_39 (Dense)            (None, 4)                 364       \n",
            "                                                                 \n",
            "=================================================================\n",
            "Total params: 15,134\n",
            "Trainable params: 15,134\n",
            "Non-trainable params: 0\n",
            "_________________________________________________________________\n"
          ]
        }
      ]
    },
    {
      "cell_type": "markdown",
      "source": [
        "2) 학습"
      ],
      "metadata": {
        "id": "cCIjipiJ2Teg"
      }
    },
    {
      "cell_type": "code",
      "source": [
        "history = model.fit(Xres1, yres1,batch_size=256,\n",
        "                                    epochs=1000,\n",
        "                                    validation_data=(test, y_test),callbacks =[callback],\n",
        "                                    workers=4)"
      ],
      "metadata": {
        "colab": {
          "base_uri": "https://localhost:8080/"
        },
        "id": "uXmtasJf2Qi4",
        "outputId": "117b3153-d007-4529-e82e-2fb974e26c8f"
      },
      "execution_count": 445,
      "outputs": [
        {
          "output_type": "stream",
          "name": "stdout",
          "text": [
            "Epoch 1/1000\n",
            "1140/1140 [==============================] - 20s 15ms/step - loss: 0.5295 - accuracy: 0.7713 - val_loss: 0.2989 - val_accuracy: 0.8596\n",
            "Epoch 2/1000\n",
            "1140/1140 [==============================] - 15s 14ms/step - loss: 0.2852 - accuracy: 0.8722 - val_loss: 0.2588 - val_accuracy: 0.8852\n",
            "Epoch 3/1000\n",
            "1140/1140 [==============================] - 15s 13ms/step - loss: 0.2450 - accuracy: 0.8938 - val_loss: 0.2186 - val_accuracy: 0.9034\n",
            "Epoch 4/1000\n",
            "1140/1140 [==============================] - 15s 13ms/step - loss: 0.2051 - accuracy: 0.9144 - val_loss: 0.1962 - val_accuracy: 0.9119\n",
            "Epoch 5/1000\n",
            "1140/1140 [==============================] - 17s 15ms/step - loss: 0.1801 - accuracy: 0.9257 - val_loss: 0.1721 - val_accuracy: 0.9299\n",
            "Epoch 6/1000\n",
            "1140/1140 [==============================] - 20s 18ms/step - loss: 0.1639 - accuracy: 0.9339 - val_loss: 0.1540 - val_accuracy: 0.9399\n",
            "Epoch 7/1000\n",
            "1140/1140 [==============================] - 14s 13ms/step - loss: 0.1516 - accuracy: 0.9406 - val_loss: 0.1451 - val_accuracy: 0.9469\n",
            "Epoch 8/1000\n",
            "1140/1140 [==============================] - 15s 13ms/step - loss: 0.1420 - accuracy: 0.9456 - val_loss: 0.1517 - val_accuracy: 0.9347\n",
            "Epoch 9/1000\n",
            "1140/1140 [==============================] - 16s 14ms/step - loss: 0.1345 - accuracy: 0.9498 - val_loss: 0.1304 - val_accuracy: 0.9537\n",
            "Epoch 10/1000\n",
            "1140/1140 [==============================] - 19s 17ms/step - loss: 0.1282 - accuracy: 0.9530 - val_loss: 0.1420 - val_accuracy: 0.9375\n",
            "Epoch 11/1000\n",
            "1140/1140 [==============================] - 15s 13ms/step - loss: 0.1235 - accuracy: 0.9554 - val_loss: 0.1402 - val_accuracy: 0.9386\n",
            "Epoch 12/1000\n",
            "1140/1140 [==============================] - 14s 13ms/step - loss: 0.1193 - accuracy: 0.9573 - val_loss: 0.1280 - val_accuracy: 0.9464\n",
            "Epoch 13/1000\n",
            "1140/1140 [==============================] - 15s 13ms/step - loss: 0.1155 - accuracy: 0.9591 - val_loss: 0.1116 - val_accuracy: 0.9598\n",
            "Epoch 14/1000\n",
            "1140/1140 [==============================] - 16s 14ms/step - loss: 0.1125 - accuracy: 0.9608 - val_loss: 0.1160 - val_accuracy: 0.9539\n",
            "Epoch 15/1000\n",
            "1140/1140 [==============================] - 15s 13ms/step - loss: 0.1096 - accuracy: 0.9623 - val_loss: 0.1094 - val_accuracy: 0.9607\n",
            "Epoch 16/1000\n",
            "1140/1140 [==============================] - 16s 14ms/step - loss: 0.1074 - accuracy: 0.9635 - val_loss: 0.1248 - val_accuracy: 0.9512\n",
            "Epoch 17/1000\n",
            "1140/1140 [==============================] - 15s 13ms/step - loss: 0.1052 - accuracy: 0.9643 - val_loss: 0.1309 - val_accuracy: 0.9448\n",
            "Epoch 18/1000\n",
            "1140/1140 [==============================] - 15s 13ms/step - loss: 0.1029 - accuracy: 0.9657 - val_loss: 0.1042 - val_accuracy: 0.9613\n",
            "Epoch 19/1000\n",
            "1140/1140 [==============================] - 15s 13ms/step - loss: 0.1009 - accuracy: 0.9661 - val_loss: 0.1346 - val_accuracy: 0.9428\n",
            "Epoch 20/1000\n",
            "1140/1140 [==============================] - 16s 14ms/step - loss: 0.0992 - accuracy: 0.9671 - val_loss: 0.0995 - val_accuracy: 0.9655\n",
            "Epoch 21/1000\n",
            "1140/1140 [==============================] - 16s 14ms/step - loss: 0.0975 - accuracy: 0.9681 - val_loss: 0.0988 - val_accuracy: 0.9620\n",
            "Epoch 22/1000\n",
            "1140/1140 [==============================] - 15s 13ms/step - loss: 0.0960 - accuracy: 0.9686 - val_loss: 0.0973 - val_accuracy: 0.9646\n",
            "Epoch 23/1000\n",
            "1140/1140 [==============================] - 15s 13ms/step - loss: 0.0945 - accuracy: 0.9691 - val_loss: 0.0925 - val_accuracy: 0.9698\n",
            "Epoch 24/1000\n",
            "1140/1140 [==============================] - 15s 13ms/step - loss: 0.0934 - accuracy: 0.9697 - val_loss: 0.1116 - val_accuracy: 0.9549\n",
            "Epoch 25/1000\n",
            "1140/1140 [==============================] - 19s 16ms/step - loss: 0.0922 - accuracy: 0.9701 - val_loss: 0.1240 - val_accuracy: 0.9515\n",
            "Epoch 26/1000\n",
            "1140/1140 [==============================] - 17s 15ms/step - loss: 0.0914 - accuracy: 0.9706 - val_loss: 0.0968 - val_accuracy: 0.9615\n",
            "Epoch 27/1000\n",
            "1140/1140 [==============================] - 15s 13ms/step - loss: 0.0898 - accuracy: 0.9711 - val_loss: 0.0881 - val_accuracy: 0.9731\n",
            "Epoch 28/1000\n",
            "1140/1140 [==============================] - 15s 13ms/step - loss: 0.0887 - accuracy: 0.9716 - val_loss: 0.1168 - val_accuracy: 0.9533\n",
            "Epoch 29/1000\n",
            "1140/1140 [==============================] - 19s 17ms/step - loss: 0.0879 - accuracy: 0.9722 - val_loss: 0.1062 - val_accuracy: 0.9577\n",
            "Epoch 30/1000\n",
            "1140/1140 [==============================] - 16s 14ms/step - loss: 0.0868 - accuracy: 0.9725 - val_loss: 0.0897 - val_accuracy: 0.9642\n",
            "Epoch 31/1000\n",
            "1140/1140 [==============================] - 15s 13ms/step - loss: 0.0856 - accuracy: 0.9730 - val_loss: 0.1016 - val_accuracy: 0.9604\n",
            "Epoch 32/1000\n",
            "1140/1140 [==============================] - 24s 21ms/step - loss: 0.0848 - accuracy: 0.9735 - val_loss: 0.1029 - val_accuracy: 0.9596\n",
            "Epoch 33/1000\n",
            "1140/1140 [==============================] - 17s 15ms/step - loss: 0.0840 - accuracy: 0.9738 - val_loss: 0.1361 - val_accuracy: 0.9453\n",
            "Epoch 34/1000\n",
            "1140/1140 [==============================] - 21s 18ms/step - loss: 0.0830 - accuracy: 0.9742 - val_loss: 0.0988 - val_accuracy: 0.9654\n",
            "Epoch 35/1000\n",
            "1140/1140 [==============================] - 17s 15ms/step - loss: 0.0821 - accuracy: 0.9748 - val_loss: 0.0894 - val_accuracy: 0.9647\n",
            "Epoch 36/1000\n",
            "1140/1140 [==============================] - 17s 15ms/step - loss: 0.0812 - accuracy: 0.9751 - val_loss: 0.0931 - val_accuracy: 0.9635\n",
            "Epoch 37/1000\n",
            "1140/1140 [==============================] - 15s 13ms/step - loss: 0.0804 - accuracy: 0.9758 - val_loss: 0.0887 - val_accuracy: 0.9635\n",
            "Epoch 38/1000\n",
            "1140/1140 [==============================] - 19s 16ms/step - loss: 0.0795 - accuracy: 0.9759 - val_loss: 0.0838 - val_accuracy: 0.9683\n",
            "Epoch 39/1000\n",
            "1140/1140 [==============================] - 20s 18ms/step - loss: 0.0788 - accuracy: 0.9761 - val_loss: 0.1179 - val_accuracy: 0.9561\n",
            "Epoch 40/1000\n",
            "1140/1140 [==============================] - 15s 13ms/step - loss: 0.0779 - accuracy: 0.9766 - val_loss: 0.0921 - val_accuracy: 0.9642\n",
            "Epoch 41/1000\n",
            "1140/1140 [==============================] - 17s 15ms/step - loss: 0.0772 - accuracy: 0.9770 - val_loss: 0.0778 - val_accuracy: 0.9728\n",
            "Epoch 42/1000\n",
            "1140/1140 [==============================] - 16s 14ms/step - loss: 0.0763 - accuracy: 0.9775 - val_loss: 0.0945 - val_accuracy: 0.9658\n",
            "Epoch 43/1000\n",
            "1140/1140 [==============================] - 21s 19ms/step - loss: 0.0758 - accuracy: 0.9773 - val_loss: 0.0900 - val_accuracy: 0.9633\n",
            "Epoch 44/1000\n",
            "1140/1140 [==============================] - 17s 15ms/step - loss: 0.0752 - accuracy: 0.9778 - val_loss: 0.0778 - val_accuracy: 0.9710\n",
            "Epoch 45/1000\n",
            "1140/1140 [==============================] - 15s 13ms/step - loss: 0.0743 - accuracy: 0.9781 - val_loss: 0.1066 - val_accuracy: 0.9618\n",
            "Epoch 46/1000\n",
            "1140/1140 [==============================] - 16s 14ms/step - loss: 0.0738 - accuracy: 0.9784 - val_loss: 0.0852 - val_accuracy: 0.9680\n",
            "Epoch 47/1000\n",
            "1140/1140 [==============================] - 20s 17ms/step - loss: 0.0730 - accuracy: 0.9788 - val_loss: 0.0830 - val_accuracy: 0.9697\n",
            "Epoch 48/1000\n",
            "1140/1140 [==============================] - 18s 16ms/step - loss: 0.0725 - accuracy: 0.9792 - val_loss: 0.0868 - val_accuracy: 0.9682\n",
            "Epoch 49/1000\n",
            "1140/1140 [==============================] - 16s 14ms/step - loss: 0.0719 - accuracy: 0.9791 - val_loss: 0.0914 - val_accuracy: 0.9638\n",
            "Epoch 50/1000\n",
            "1140/1140 [==============================] - 15s 13ms/step - loss: 0.0708 - accuracy: 0.9796 - val_loss: 0.0777 - val_accuracy: 0.9681\n",
            "Epoch 51/1000\n",
            "1140/1140 [==============================] - 15s 13ms/step - loss: 0.0705 - accuracy: 0.9799 - val_loss: 0.0699 - val_accuracy: 0.9768\n",
            "Epoch 52/1000\n",
            "1140/1140 [==============================] - 16s 14ms/step - loss: 0.0701 - accuracy: 0.9800 - val_loss: 0.0728 - val_accuracy: 0.9761\n",
            "Epoch 53/1000\n",
            "1138/1140 [============================>.] - ETA: 0s - loss: 0.0692 - accuracy: 0.9804\n",
            "Reached 98% accuracy so cancelling training!\n",
            "1140/1140 [==============================] - 15s 13ms/step - loss: 0.0693 - accuracy: 0.9805 - val_loss: 0.0701 - val_accuracy: 0.9765\n"
          ]
        }
      ]
    },
    {
      "cell_type": "markdown",
      "source": [
        "3) Plotting model accuracy, validation accuracy와 loss 그래프 출력"
      ],
      "metadata": {
        "id": "0t6mc3Vd2mly"
      }
    },
    {
      "cell_type": "code",
      "source": [
        "import matplotlib.pyplot as plt\n",
        "\n",
        "def plotmodelhistory(history): \n",
        "    fig, axs = plt.subplots(1,2,figsize=(15,5)) \n",
        "    axs[0].plot(history.history['accuracy']) \n",
        "    axs[0].plot(history.history['val_accuracy']) \n",
        "    axs[0].set_title('Model Accuracy')\n",
        "    axs[0].set_ylabel('Accuracy') \n",
        "    axs[0].set_xlabel('Epoch')\n",
        "    axs[0].legend(['train', 'validate'], loc='upper left')\n",
        " \n",
        "print(history.history.keys())\n",
        "plotmodelhistory(history)\n",
        "plt.savefig('Mode Accuracy and Loss',dpi=300)"
      ],
      "metadata": {
        "colab": {
          "base_uri": "https://localhost:8080/",
          "height": 368
        },
        "id": "HlfOVxfW2vAA",
        "outputId": "e91ffb22-1acb-414e-8566-b6d102ea042f"
      },
      "execution_count": 482,
      "outputs": [
        {
          "output_type": "stream",
          "name": "stdout",
          "text": [
            "dict_keys(['loss', 'accuracy', 'val_loss', 'val_accuracy'])\n"
          ]
        },
        {
          "output_type": "display_data",
          "data": {
            "text/plain": [
              "<Figure size 1080x360 with 2 Axes>"
            ],
            "image/png": "[encoded data removed]"
          },
          "metadata": {
            "needs_background": "light"
          }
        }
      ]
    },
    {
      "cell_type": "markdown",
      "source": [
        "4) 손실과 정확도 측정"
      ],
      "metadata": {
        "id": "8991px_X3LgV"
      }
    },
    {
      "cell_type": "code",
      "source": [
        "scores = model.evaluate(test, y_test, verbose=1)\n",
        "print('Test loss:', scores[0])\n",
        "print('Test accuracy:', scores[1])"
      ],
      "metadata": {
        "colab": {
          "base_uri": "https://localhost:8080/"
        },
        "id": "0lfi_GP63IaV",
        "outputId": "f7094da0-f277-49ad-9fb4-e6de6e43c373"
      },
      "execution_count": 447,
      "outputs": [
        {
          "output_type": "stream",
          "name": "stdout",
          "text": [
            "1823/1823 [==============================] - 6s 3ms/step - loss: 0.0701 - accuracy: 0.9765\n",
            "Test loss: 0.07014875113964081\n",
            "Test accuracy: 0.9764810800552368\n"
          ]
        }
      ]
    },
    {
      "cell_type": "markdown",
      "source": [
        "5) 특성별 정확도 측정\n",
        "- ROC(Receiver Operating Characteristic)  \n",
        "- 다양한 feautue에 대한 분류기의 성능을 한번에 표시  \n",
        "- X축/FPR (False positive rate): 케이스에 대해 틀리게 예측하는 비율  \n",
        "- Y축/TPR (True Positive Rate): 케이스에 대해 바르게 예측하는 비율"
      ],
      "metadata": {
        "id": "1Zm6RJ0q5bZ3"
      }
    },
    {
      "cell_type": "code",
      "source": [
        "ypred = model.predict(Xres1)\n",
        "ypred = ypred.argmax(axis=-1)\n",
        "yres1 = yres1.argmax(axis=-1)"
      ],
      "metadata": {
        "colab": {
          "base_uri": "https://localhost:8080/"
        },
        "id": "qxrDrkM441X4",
        "outputId": "e0cc7766-8d9a-419b-ed98-9e5d58ae7448"
      },
      "execution_count": 448,
      "outputs": [
        {
          "output_type": "stream",
          "name": "stdout",
          "text": [
            "9115/9115 [==============================] - 26s 3ms/step\n"
          ]
        }
      ]
    },
    {
      "cell_type": "code",
      "source": [
        "import matplotlib.pyplot as plt \n",
        "from sklearn.preprocessing import LabelBinarizer\n",
        "from sklearn.metrics import roc_curve, auc, roc_auc_score\n",
        "\n",
        "# 'DDoS', 'DoS', 'Normal', 'Reconnaissance' 타겟에 대한 예측 진행\n",
        "target = ['DDoS', 'DoS', 'Normal', 'Reconnaissance']\n",
        "\n",
        "fig, c_ax = plt.subplots(1,1, figsize = (12, 8))\n",
        "\n",
        "def multiclass_roc_auc_score(y_test, y_pred, average=\"macro\"):\n",
        "    lb = LabelBinarizer()\n",
        "    lb.fit(y_test)\n",
        "    y_test = lb.transform(y_test)\n",
        "    y_pred = lb.transform(ypred)\n",
        "\n",
        "    for (idx, c_label) in enumerate(target):\n",
        "        fpr, tpr, thresholds = roc_curve(y_test[:,idx].astype(int), y_pred[:,idx])\n",
        "        c_ax.plot(fpr, tpr, label = '%s (AUC:%0.2f)'  % (c_label, auc(fpr, tpr)))\n",
        "    c_ax.plot(fpr, fpr, 'b-', label = 'Random Guessing')\n",
        "    return roc_auc_score(y_test, y_pred, average=average)\n",
        "\n",
        "\n",
        "print('ROC AUC score:', multiclass_roc_auc_score(yres1, ypred))\n",
        "\n",
        "c_ax.legend()\n",
        "c_ax.set_xlabel('False Positive Rate', fontsize=25)\n",
        "c_ax.set_ylabel('True Positive Rate',fontsize=25)\n",
        "plt.savefig('ROC_LSTM',dpi=300)\n",
        "plt.show()"
      ],
      "metadata": {
        "colab": {
          "base_uri": "https://localhost:8080/",
          "height": 529
        },
        "id": "-NHHKaNM4xRw",
        "outputId": "6dadc2bf-1c4d-4a44-a439-ec3a3436499f"
      },
      "execution_count": 449,
      "outputs": [
        {
          "output_type": "stream",
          "name": "stdout",
          "text": [
            "ROC AUC score: 0.9889992091681638\n"
          ]
        },
        {
          "output_type": "display_data",
          "data": {
            "text/plain": [
              "<Figure size 864x576 with 1 Axes>"
            ],
            "image/png": "[encoded data removed]"
          },
          "metadata": {
            "needs_background": "light"
          }
        }
      ]
    }
  ]
}
