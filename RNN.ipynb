{
  "nbformat": 4,
  "nbformat_minor": 0,
  "metadata": {
    "colab": {
      "provenance": []
    },
    "kernelspec": {
      "name": "python3",
      "display_name": "Python 3"
    },
    "language_info": {
      "name": "python"
    }
  },
  "cells": [
    {
      "cell_type": "markdown",
      "source": [
        "## 데이터 세트 준비"
      ],
      "metadata": {
        "id": "4PWbbbMFpQ59"
      }
    },
    {
      "cell_type": "code",
      "source": [
        "#필요한 라이브러리 import\n",
        "from sklearn import datasets\n",
        "import numpy as np\n",
        "from sklearn.model_selection import train_test_split\n",
        "from sklearn.preprocessing import StandardScaler\n",
        "from sklearn.linear_model import Perceptron\n",
        "import pandas as pd\n",
        "from sklearn.metrics import accuracy_score\n",
        "from sklearn.svm import SVC\n",
        "from sklearn.ensemble import RandomForestClassifier\n",
        "from sklearn.datasets import make_blobs\n",
        "from sklearn.model_selection import cross_val_score\n",
        "import matplotlib.pyplot as plt\n",
        "import matplotlib\n",
        "from sklearn import tree\n",
        "from sklearn.preprocessing import StandardScaler\n",
        "from matplotlib.colors import ListedColormap\n",
        "from sklearn.model_selection import GridSearchCV\n",
        "from sklearn.metrics import roc_curve, auc\n",
        "from sklearn.metrics import precision_score\n",
        "from sklearn.metrics import recall_score, f1_score\n",
        "from sklearn.metrics import confusion_matrix\n",
        "from sklearn.model_selection import cross_val_score\n",
        "from sklearn.model_selection import StratifiedKFold\n",
        "from sklearn.preprocessing import StandardScaler\n",
        "from sklearn.decomposition import PCA\n",
        "from sklearn.linear_model import LogisticRegression\n",
        "from sklearn.pipeline import make_pipeline\n",
        "from numpy import mean\n",
        "from numpy import std\n",
        "from sklearn.datasets import make_classification\n",
        "from sklearn.model_selection import KFold\n",
        "from sklearn.model_selection import cross_val_score\n",
        "from sklearn.linear_model import LogisticRegression\n",
        "from sklearn.preprocessing import label_binarize\n",
        "from sklearn.multiclass import OneVsRestClassifier\n",
        "from scipy import interp\n",
        "from itertools import cycle\n",
        "import pandas as pd\n",
        "import numpy as np\n",
        "from sklearn.preprocessing import MinMaxScaler\n",
        "import matplotlib.pyplot as plt\n",
        "import tensorflow as tf\n",
        "import os\n",
        "from keras.models import Sequential\n",
        "from keras.layers import Embedding\n",
        "import numpy as np\n",
        "import pandas as pd\n",
        "from matplotlib import pyplot as plt\n",
        "from keras.preprocessing.text import Tokenizer\n",
        "!pip from keras.preprocessing.sequence import pad_sequences\n",
        "from sklearn.model_selection import train_test_split\n",
        "from tensorflow.keras.utils import to_categorical\n",
        "from keras.models import Sequential\n",
        "from keras.layers import Dense, Dropout, Embedding, LSTM, GlobalMaxPooling1D, SpatialDropout1D\n",
        "from tensorflow import keras\n",
        "from tensorflow.keras import layers\n",
        "from tensorflow.keras.layers import SimpleRNN"
      ],
      "metadata": {
        "id": "HfOd3dMcpWkT"
      },
      "execution_count": null,
      "outputs": []
    },
    {
      "cell_type": "code",
      "execution_count": null,
      "metadata": {
        "id": "ouoYQaLopNrK"
      },
      "outputs": [],
      "source": [
        "#구글 드라이브 연결\n",
        "from google.colab import drive\n",
        "drive.mount('/content/drive')\n",
        "\n",
        "#train/test 데이터셋 불러오기\n",
        "train = pd.read_csv(\"/content/drive/MyDrive/AI/UNSW_2018_IoT_Botnet_Final_10_best_Training.csv\")\n",
        "test = pd.read_csv(\"/content/drive/MyDrive/AI/UNSW_2018_IoT_Botnet_Final_10_best_Testing.csv\")"
      ]
    },
    {
      "cell_type": "code",
      "source": [
        "# 데이터셋 내용 확인\n",
        "# Train Data Size: [2934817 rows x 19 columns]\n",
        "train.head()\n",
        "\n",
        "# Test Data Size: [733704 rows x 19 columns]\n",
        "test.head()"
      ],
      "metadata": {
        "id": "-t7Pzzd-pg6_"
      },
      "execution_count": null,
      "outputs": []
    },
    {
      "cell_type": "code",
      "source": [
        "\n",
        "train.info()\n",
        "\n",
        "test.info()"
      ],
      "metadata": {
        "id": "78BKAfFTpqjI"
      },
      "execution_count": null,
      "outputs": []
    },
    {
      "cell_type": "code",
      "source": [
        "#null값 갯수 확인\n",
        "train.isnull().sum()\n",
        "test.isnull().sum()"
      ],
      "metadata": {
        "id": "YrYa-zNcp1xp"
      },
      "execution_count": null,
      "outputs": []
    },
    {
      "cell_type": "markdown",
      "source": [
        "### Column 수정"
      ],
      "metadata": {
        "id": "yjBoEv6MrXBd"
      }
    },
    {
      "cell_type": "code",
      "source": [
        "# IP 주소가 있는 행을 식별하기 때문에 pkSeqID 및 seq를 삭제\n",
        "# category 를 다루기 때문에 category 하위 column 삭제\n",
        "\n",
        "train.drop([\"pkSeqID\",\"seq\",\"subcategory\"], axis=1, inplace=True)\n",
        "test.drop([\"pkSeqID\",\"seq\",\"subcategory\"], axis=1, inplace=True)\n",
        "train.dtypes[train.dtypes=='object']"
      ],
      "metadata": {
        "colab": {
          "base_uri": "https://localhost:8080/",
          "height": 135
        },
        "id": "q2g0OuGdp1sg",
        "outputId": "69d4d47d-700c-432d-989c-96d3666e76dd"
      },
      "execution_count": 1,
      "outputs": [
        {
          "output_type": "error",
          "ename": "SyntaxError",
          "evalue": "ignored",
          "traceback": [
            "\u001b[0;36m  File \u001b[0;32m\"<ipython-input-1-535be943e958>\"\u001b[0;36m, line \u001b[0;32m1\u001b[0m\n\u001b[0;31m    IP 주소가 있는 행을 식별하기 때문에 pkSeqID 및 seq를 삭제합니다\u001b[0m\n\u001b[0m       ^\u001b[0m\n\u001b[0;31mSyntaxError\u001b[0m\u001b[0;31m:\u001b[0m invalid syntax\n"
          ]
        }
      ]
    },
    {
      "cell_type": "code",
      "source": [
        "#분류가 필요한 열 찾기\n",
        "\n",
        "train['proto'].value_counts()\n",
        "train['saddr'].value_counts()\n",
        "train['sport'].value_counts()"
      ],
      "metadata": {
        "id": "rCgxmdCtp1qu"
      },
      "execution_count": null,
      "outputs": []
    },
    {
      "cell_type": "code",
      "source": [
        "# category 중 Theft는 제거함\n",
        "\n",
        "drop_theft = train[train['category']=='Theft'].index\n",
        "train.drop(drop_theft , inplace=True)"
      ],
      "metadata": {
        "id": "Niop8hIrp9KH"
      },
      "execution_count": null,
      "outputs": []
    },
    {
      "cell_type": "code",
      "source": [
        "drop_theft = test[test['category']=='Theft'].index\n",
        "test.drop(drop_theft , inplace=True)"
      ],
      "metadata": {
        "id": "d0M_Ufk3p9H9"
      },
      "execution_count": null,
      "outputs": []
    },
    {
      "cell_type": "code",
      "source": [
        "# sport(Source Port Number) 칼럼에서 0x 문자열 찾기\n",
        "\n",
        "search_string='0x'\n",
        "result = set([i for i in train['sport'] if i.startswith(search_string)])\n",
        "result"
      ],
      "metadata": {
        "id": "jNy9AsMvp9Fw"
      },
      "execution_count": null,
      "outputs": []
    },
    {
      "cell_type": "code",
      "source": [
        "train['sport']=train['sport'].replace(['0x0303'],'771') \n",
        "train['sport']=train['sport'].replace(['0x0011'],'17')\n",
        "train['sport']=train['sport'].replace(['0x000d'],'13')\n",
        "train['sport']=train['sport'].replace(['0x0008'],'8')\n",
        "train['sport']=train['sport'].replace(['0x0303'],'771') \n",
        "train['sport']=train['sport'].replace(['0x0011'],'17')\n",
        "train['sport']=train['sport'].replace(['0x000d'],'13')\n",
        "train['sport']=train['sport'].replace(['0x0008'],'8')"
      ],
      "metadata": {
        "id": "v_98BvD-qDFz"
      },
      "execution_count": null,
      "outputs": []
    },
    {
      "cell_type": "code",
      "source": [
        "train[\"sport\"] = train[\"sport\"].astype(str).astype(int)"
      ],
      "metadata": {
        "id": "teuqEIC4qDEB"
      },
      "execution_count": null,
      "outputs": []
    },
    {
      "cell_type": "code",
      "source": [
        "search_string='0x'\n",
        "result = set([i for i in train['dport'] if i.startswith(search_string)])\n",
        "print(len(result))\n",
        "result"
      ],
      "metadata": {
        "id": "DBr-pe8BqDB2"
      },
      "execution_count": null,
      "outputs": []
    },
    {
      "cell_type": "code",
      "source": [
        "train['dport']=train.dport.apply(lambda x: int(x,16) if len(x)>1 and x[1]==\"x\" else int(x))"
      ],
      "metadata": {
        "id": "PeP4N04XqC_g"
      },
      "execution_count": null,
      "outputs": []
    },
    {
      "cell_type": "code",
      "source": [
        "train['dport'].value_counts()"
      ],
      "metadata": {
        "id": "j19Iu71JqC9L"
      },
      "execution_count": null,
      "outputs": []
    },
    {
      "cell_type": "code",
      "source": [
        "test['sport']=test['sport'].replace(['0x0303'],'771') \n",
        "test['sport']=test['sport'].replace(['0x0011'],'17')\n",
        "test['sport']=test['sport'].replace(['0x000d'],'13')\n",
        "test['sport']=test['sport'].replace(['0x0008'],'8')"
      ],
      "metadata": {
        "id": "iS4P_szOqC62"
      },
      "execution_count": null,
      "outputs": []
    },
    {
      "cell_type": "code",
      "source": [
        "test[\"sport\"] = test[\"sport\"].astype(str).astype(int)"
      ],
      "metadata": {
        "id": "WhYonC3CqC4k"
      },
      "execution_count": null,
      "outputs": []
    },
    {
      "cell_type": "code",
      "source": [
        "test['dport'] = test.dport.apply(lambda x: int(x,16) if len(x)>1 and x[1]==\"x\" else int(x))"
      ],
      "metadata": {
        "id": "EyLS4JsBqOuE"
      },
      "execution_count": null,
      "outputs": []
    },
    {
      "cell_type": "markdown",
      "source": [
        "#### Label Encoding"
      ],
      "metadata": {
        "id": "42NkQ8pZsrOP"
      }
    },
    {
      "cell_type": "code",
      "source": [
        "# train 데이터에서 레이블 인코딩 수행\n",
        "from sklearn.preprocessing import LabelEncoder\n",
        "le = LabelEncoder()\n",
        "train[\"saddr_enc\"]= le.fit_transform(train.saddr)\n",
        "train[\"daddr_enc\"]= le.fit_transform(train.daddr)\n",
        "train[\"proto_enc\"]= le.fit_transform(train.proto)\n",
        "train[\"category_enc\"]= le.fit_transform(train.category)\n",
        "train.drop(['saddr','daddr','proto','category'], axis=1, inplace=True)"
      ],
      "metadata": {
        "id": "BBPdmMS1qOr_"
      },
      "execution_count": null,
      "outputs": []
    },
    {
      "cell_type": "code",
      "source": [
        "# test 데이터에서 레이블 인코딩 수행\n",
        "test[\"saddr_enc\"]= le.fit_transform(test.saddr)\n",
        "test[\"daddr_enc\"]= le.fit_transform(test.daddr)\n",
        "test[\"proto_enc\"]= le.fit_transform(test.proto)\n",
        "test[\"category_enc\"]= le.fit_transform(test.category)\n",
        "test.drop(['saddr','daddr','proto','category'], axis=1, inplace=True)"
      ],
      "metadata": {
        "id": "9nmeeWsIqOqC"
      },
      "execution_count": null,
      "outputs": []
    },
    {
      "cell_type": "code",
      "source": [
        "# data check\n",
        "train.head()\n",
        "test.head()"
      ],
      "metadata": {
        "id": "qNx57OPWqOoA"
      },
      "execution_count": null,
      "outputs": []
    },
    {
      "cell_type": "code",
      "source": [
        "# data check\n",
        "train.info()\n",
        "test.info()"
      ],
      "metadata": {
        "id": "ptY5p9HLqOl0"
      },
      "execution_count": null,
      "outputs": []
    },
    {
      "cell_type": "markdown",
      "source": [
        "#### train data / test data 분할"
      ],
      "metadata": {
        "id": "oV3i6DAQtUB-"
      }
    },
    {
      "cell_type": "code",
      "source": [
        "# y_train 및 y_test 할당\n",
        "\n",
        "y_train=train[\"category_enc\"]"
      ],
      "metadata": {
        "id": "3sjJCDviqOjw"
      },
      "execution_count": null,
      "outputs": []
    },
    {
      "cell_type": "code",
      "source": [
        "pd.Series(y_test).value_counts()"
      ],
      "metadata": {
        "id": "0mcEN0IJqOhb"
      },
      "execution_count": null,
      "outputs": []
    },
    {
      "cell_type": "code",
      "source": [
        "from sklearn.preprocessing import StandardScaler\n",
        "scaler=StandardScaler()\n",
        "features = train.iloc[:,:-1]\n",
        "cols=features.columns\n",
        "scaled_features= scaler.fit_transform(features)\n",
        "train= pd.DataFrame(scaled_features,columns=cols)"
      ],
      "metadata": {
        "id": "-wFzNvT3qOfR"
      },
      "execution_count": null,
      "outputs": []
    },
    {
      "cell_type": "code",
      "source": [
        "features = test.iloc[:,:-1]\n",
        "cols=features.columns\n",
        "scaled_features= scaler.fit_transform(features)\n",
        "test= pd.DataFrame(scaled_features,columns=cols)"
      ],
      "metadata": {
        "id": "aXfCjpk8qgzR"
      },
      "execution_count": null,
      "outputs": []
    },
    {
      "cell_type": "code",
      "source": [
        "train.head()"
      ],
      "metadata": {
        "id": "H55s3aQ6qgxW"
      },
      "execution_count": null,
      "outputs": []
    },
    {
      "cell_type": "code",
      "source": [
        "train.info()"
      ],
      "metadata": {
        "id": "idUdk2lzqgvN"
      },
      "execution_count": null,
      "outputs": []
    },
    {
      "cell_type": "markdown",
      "source": [
        "#### 과다 및 과소 샘플링으로 데이터 세트 균형 조정"
      ],
      "metadata": {
        "id": "u-1lNBY6tp4q"
      }
    },
    {
      "cell_type": "code",
      "source": [
        "pd.Series(y_train).value_counts()"
      ],
      "metadata": {
        "id": "aXSpoJ91qgst"
      },
      "execution_count": null,
      "outputs": []
    },
    {
      "cell_type": "code",
      "source": [
        "from sklearn import model_selection\n",
        "from sklearn.model_selection import StratifiedKFold,cross_val_score\n",
        "from sklearn.svm import SVC\n",
        "import imblearn\n",
        "from imblearn.over_sampling import RandomOverSampler\n",
        "samp_strat= { 0 : 1541315, 1 : 1320148, 2 : 72919, 3 : 72919}\n",
        "random_over= RandomOverSampler(sampling_strategy=samp_strat,random_state=1)\n",
        "Xres,yres = random_over.fit_resample(train,y_train)\n",
        "\n",
        "from imblearn.under_sampling import RandomUnderSampler\n",
        "samp_strat= { 0 : 72919, 1 : 72919, 2 : 72919, 3 : 72919}\n",
        "random_under= RandomUnderSampler(sampling_strategy=samp_strat,random_state=1)\n",
        "Xres1,yres1 = random_under.fit_resample(Xres,yres)"
      ],
      "metadata": {
        "id": "A_nI6Bz9qgql"
      },
      "execution_count": null,
      "outputs": []
    },
    {
      "cell_type": "code",
      "source": [
        "pd.Series(yres1).value_counts()"
      ],
      "metadata": {
        "id": "ZOccc6ZQqnr8"
      },
      "execution_count": null,
      "outputs": []
    },
    {
      "cell_type": "code",
      "source": [
        "# 데이터 세트 오버/언더 샘플링 조정\n",
        "import imblearn\n",
        "from imblearn.under_sampling import RandomUnderSampler\n",
        "samp_strat= { 0 : 385309, 1 : 330112, 2 : 330112, 3 : 330112}\n",
        "random_over_1= RandomOverSampler(sampling_strategy=samp_strat,random_state=1)\n",
        "test,y_test = random_over_1.fit_resample(test,y_test)"
      ],
      "metadata": {
        "id": "Cl-lue4Xqnp6"
      },
      "execution_count": null,
      "outputs": []
    },
    {
      "cell_type": "code",
      "source": [
        "pd.Series(y_test).value_counts()"
      ],
      "metadata": {
        "id": "2KpchTaBqnnt"
      },
      "execution_count": null,
      "outputs": []
    },
    {
      "cell_type": "code",
      "source": [
        "import imblearn\n",
        "from imblearn.under_sampling import RandomUnderSampler\n",
        "samp_strat= { 0 : 14584, 1 : 14584, 2 : 14584, 3 : 14584}\n",
        "random_over_2= RandomUnderSampler(sampling_strategy=samp_strat,random_state=1)\n",
        "test,y_test = random_over_2.fit_resample(test,y_test)"
      ],
      "metadata": {
        "id": "uvBmcmbLqnlj"
      },
      "execution_count": null,
      "outputs": []
    },
    {
      "cell_type": "code",
      "source": [
        "pd.Series(y_test).value_counts()"
      ],
      "metadata": {
        "id": "FGg6agdiqnjO"
      },
      "execution_count": null,
      "outputs": []
    },
    {
      "cell_type": "code",
      "source": [
        "class myCallback(tf.keras.callbacks.Callback):\n",
        "    def on_epoch_end(self, epoch, logs={}):\n",
        "        if(logs.get('accuracy') > 0.99 ):\n",
        "            print(\"\\nReached 99.20% accuracy so cancelling training!\")\n",
        "            self.model.stop_training = True\n",
        "\n",
        "callback=myCallback()"
      ],
      "metadata": {
        "id": "8j0S9LgSqnf9"
      },
      "execution_count": null,
      "outputs": []
    },
    {
      "cell_type": "code",
      "source": [
        "# 'adam' 대신 옵티마이저 초기화\n",
        "\n",
        "from tensorflow.keras import optimizers\n",
        "opt = tf.keras.optimizers.RMSprop(learning_rate=0.0001, decay=1e-6)"
      ],
      "metadata": {
        "id": "HaqFky7aqwCg"
      },
      "execution_count": null,
      "outputs": []
    },
    {
      "cell_type": "code",
      "source": [
        "Xres1.shape"
      ],
      "metadata": {
        "id": "_mXpkaDRqwAx"
      },
      "execution_count": null,
      "outputs": []
    },
    {
      "cell_type": "code",
      "source": [
        "# 4개의 밀집 계층 RNN 모델 설계\n",
        "\n",
        "n_samples, n_feats = Xres1.shape[0], Xres1.shape[1]\n",
        "Xres1=np.array(Xres1)\n",
        "Xres1 = Xres1.reshape((n_samples, n_feats, 1))\n",
        "yres1=np.array(yres1)\n",
        "yres1 = to_categorical(yres1, 4)\n",
        "model = Sequential()\n",
        "model.add(SimpleRNN(n_feats, input_shape=(n_feats, 1)))\n",
        "model.add(Dense(20))\n",
        "model.add(Dense(60))\n",
        "model.add(Dense(80))\n",
        "model.add(Dense(90))\n",
        "model.add(Dense(4, activation='softmax'))"
      ],
      "metadata": {
        "id": "40OPzAOeqv-l"
      },
      "execution_count": null,
      "outputs": []
    },
    {
      "cell_type": "code",
      "source": [
        "#모델 컴파일\n",
        "model.compile(loss='categorical_crossentropy', optimizer=opt,metrics=['accuracy'])"
      ],
      "metadata": {
        "id": "xlM1OZGrqv8e"
      },
      "execution_count": null,
      "outputs": []
    },
    {
      "cell_type": "code",
      "source": [
        "# 검증 데이터\n",
        "n_samples, n_feats = test.shape[0], test.shape[1]\n",
        "test=np.array(test)\n",
        "test = test.reshape((n_samples, n_feats, 1))\n",
        "y_test=np.array(y_test)\n",
        "y_test = to_categorical(y_test, 4)"
      ],
      "metadata": {
        "id": "aRPQmUgDq26I"
      },
      "execution_count": null,
      "outputs": []
    },
    {
      "cell_type": "code",
      "source": [
        "model.summary()"
      ],
      "metadata": {
        "id": "YjpffdHmq24h"
      },
      "execution_count": null,
      "outputs": []
    },
    {
      "cell_type": "code",
      "source": [
        "#모델 학습\n",
        "history = model.fit(Xres1, yres1,batch_size=512,\n",
        "                                    epochs=1000,\n",
        "                                    validation_data=(test, y_test),callbacks =[callback],\n",
        "                                    workers=4)"
      ],
      "metadata": {
        "id": "p4lmvXCeq22c"
      },
      "execution_count": null,
      "outputs": []
    },
    {
      "cell_type": "code",
      "source": [
        "# plt로 모델 정확도, 검증 정확도 및 모델 손실 시각화\n",
        "\n",
        "def plotmodelhistory(history): \n",
        "    fig, axs = plt.subplots(1,2,figsize=(15,5)) \n",
        "    # summarize history for accuracy\n",
        "    axs[0].plot(history.history['accuracy']) \n",
        "    axs[0].plot(history.history['val_accuracy']) \n",
        "    axs[0].set_title('Model Accuracy')\n",
        "    axs[0].set_ylabel('Accuracy') \n",
        "    axs[0].set_xlabel('Epoch')\n",
        "    axs[0].legend(['train', 'validate'], loc='upper left')\n",
        "    # summarize history for loss\n",
        "    axs[1].plot(history.history['loss']) \n",
        "    axs[1].plot(history.history['val_loss']) \n",
        "    axs[1].set_title('Model Loss')\n",
        "    axs[1].set_ylabel('Loss') \n",
        "    axs[1].set_xlabel('Epoch')\n",
        "    axs[1].legend(['train', 'validate'], loc='upper left')\n",
        "    plt.show()\n",
        "\n",
        "# list all data in history\n",
        "print(history.history.keys())\n",
        "\n",
        "plotmodelhistory(history)"
      ],
      "metadata": {
        "id": "OJyxWw9vq20q"
      },
      "execution_count": null,
      "outputs": []
    },
    {
      "cell_type": "code",
      "source": [
        "scores = model.evaluate(test, y_test, verbose=1)\n",
        "print('Test loss:', scores[0])\n",
        "print('Test accuracy:', scores[1])"
      ],
      "metadata": {
        "id": "4-RNqfR0q2yV"
      },
      "execution_count": null,
      "outputs": []
    },
    {
      "cell_type": "code",
      "source": [
        "pred = model.predict(test)\n",
        "\n",
        "def heatmap(data, row_labels, col_labels, ax=None, cbar_kw={}, cbarlabel=\"\", **kwargs):\n",
        "    \"\"\"\n",
        "    Create a heatmap from a numpy array and two lists of labels.\n",
        "    \"\"\"\n",
        "    if not ax:\n",
        "        ax = plt.gca()\n",
        "\n",
        "    # Plot the heatmap\n",
        "    im = ax.imshow(data, **kwargs)\n",
        "\n",
        "    # Create colorbar\n",
        "    cbar = ax.figure.colorbar(im, ax=ax, **cbar_kw)\n",
        "    cbar.ax.set_ylabel(cbarlabel, rotation=-90, va=\"bottom\")\n",
        "\n",
        "    # Let the horizontal axes labeling appear on top.\n",
        "    ax.tick_params(top=True, bottom=False,\n",
        "                   labeltop=True, labelbottom=False)\n",
        "    # We want to show all ticks...\n",
        "    ax.set_xticks(np.arange(data.shape[1]))\n",
        "    ax.set_yticks(np.arange(data.shape[0]))\n",
        "    # ... and label them with the respective list entries.\n",
        "    ax.set_xticklabels(col_labels)\n",
        "    ax.set_yticklabels(row_labels)\n",
        "    \n",
        "    ax.set_xlabel('Predicted Label') \n",
        "    ax.set_ylabel('True Label')\n",
        "    \n",
        "    return im, cbar\n",
        "\n",
        "def annotate_heatmap(im, data=None, fmt=\"d\", threshold=None):\n",
        "    \"\"\"\n",
        "    A function to annotate a heatmap.\n",
        "    \"\"\"\n",
        "    # Change the text's color depending on the data.\n",
        "    texts = []\n",
        "    for i in range(data.shape[0]):\n",
        "        for j in range(data.shape[1]):\n",
        "            text = im.axes.text(j, i, format(data[i, j], fmt), horizontalalignment=\"center\",\n",
        "                                 color=\"white\" if data[i, j] > thresh else \"black\")\n",
        "            texts.append(text)\n",
        "\n",
        "    return texts"
      ],
      "metadata": {
        "id": "8FPbsAtRq2wl"
      },
      "execution_count": null,
      "outputs": []
    },
    {
      "cell_type": "code",
      "source": [
        "labels = ['DDoS', 'DoS', 'Normal', 'Reconnaissance']\n",
        "\n",
        "# Convert predictions classes to one hot vectors \n",
        "Y_pred_classes = np.argmax(pred, axis=1) \n",
        "# Convert validation observations to one hot vectors\n",
        "Y_true = np.argmax(y_test, axis=1)\n",
        "# Errors are difference between predicted labels and true labels\n",
        "errors = (Y_pred_classes - Y_true != 0)\n",
        "\n",
        "Y_pred_classes_errors = Y_pred_classes[errors]\n",
        "Y_pred_errors = pred[errors]\n",
        "Y_true_errors = Y_true[errors]\n",
        "X_test_errors = test[errors]\n",
        "\n",
        "cm = confusion_matrix(Y_true, Y_pred_classes) \n",
        "thresh = cm.max() / 2.\n",
        "\n",
        "fig, ax = plt.subplots(figsize=(12,12))\n",
        "im, cbar = heatmap(cm, labels, labels, ax=ax,\n",
        "                   cmap=plt.cm.Blues, cbarlabel=\"count of predictions\")\n",
        "texts = annotate_heatmap(im, data=cm, threshold=thresh)\n",
        "\n",
        "fig.tight_layout()\n",
        "plt.show()"
      ],
      "metadata": {
        "id": "yrlYWahTrBu1"
      },
      "execution_count": null,
      "outputs": []
    },
    {
      "cell_type": "code",
      "source": [
        "from sklearn.metrics import confusion_matrix, classification_report\n",
        "print(classification_report(Y_true, Y_pred_classes,target_names=labels))"
      ],
      "metadata": {
        "id": "y1QJHu1rrBri"
      },
      "execution_count": null,
      "outputs": []
    },
    {
      "cell_type": "code",
      "source": [
        "ypred = model.predict(Xres1)\n",
        "ypred = ypred.argmax(axis=-1)\n",
        "yres1 = yres1.argmax(axis=-1)"
      ],
      "metadata": {
        "id": "y-gBpeWIrHSs"
      },
      "execution_count": null,
      "outputs": []
    },
    {
      "cell_type": "code",
      "source": [
        "#  ROC(Receiver Operating Characteristic) curve\n",
        "# 좌상단에 붙어있는 커브가 더 좋은 분류기를 의미\n",
        "\n",
        "import matplotlib.pyplot as plt \n",
        "from sklearn.preprocessing import LabelBinarizer\n",
        "from sklearn.metrics import roc_curve, auc, roc_auc_score\n",
        "\n",
        "target = ['DDoS', 'DoS', 'Normal', 'Reconnaissance']\n",
        "\n",
        "\n",
        "fig, c_ax = plt.subplots(1,1, figsize = (20, 14))\n",
        "\n",
        "# function for scoring roc auc score for multi-class\n",
        "def multiclass_roc_auc_score(y_test, y_pred, average=\"macro\"):\n",
        "    lb = LabelBinarizer()\n",
        "    lb.fit(y_test)\n",
        "    y_test = lb.transform(y_test)\n",
        "    y_pred = lb.transform(ypred)\n",
        "\n",
        "    for (idx, c_label) in enumerate(target):\n",
        "        fpr, tpr, thresholds = roc_curve(y_test[:,idx].astype(int), y_pred[:,idx])\n",
        "        c_ax.plot(fpr, tpr, label = '%s (AUC:%0.2f)'  % (c_label, auc(fpr, tpr)))\n",
        "    c_ax.plot(fpr, fpr, 'b-', label = 'Random Guessing')\n",
        "    return roc_auc_score(y_test, y_pred, average=average)\n",
        "\n",
        "\n",
        "print('ROC AUC score:', multiclass_roc_auc_score(yres1, ypred))\n",
        "\n",
        "c_ax.legend()\n",
        "c_ax.set_xlabel('False Positive Rate',fontsize=25)\n",
        "c_ax.set_ylabel('True Positive Rate',fontsize=25)\n",
        "plt.savefig('ROC_RNN',dpi=400)\n",
        "plt.show()\n"
      ],
      "metadata": {
        "id": "8ACh7G-NrHQq"
      },
      "execution_count": null,
      "outputs": []
    },
    {
      "cell_type": "code",
      "source": [],
      "metadata": {
        "id": "OvAAea9frHOa"
      },
      "execution_count": null,
      "outputs": []
    }
  ]
}